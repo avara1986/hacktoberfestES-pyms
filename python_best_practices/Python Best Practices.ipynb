{
 "cells": [
  {
   "cell_type": "markdown",
   "metadata": {},
   "source": [
    "# Style Guides\n",
    "\n",
    "https://pep8.org/\n",
    "\n",
    "Opensource guide:\n",
    "\n",
    "http://opensource.guide/es/\n"
   ]
  },
  {
   "cell_type": "markdown",
   "metadata": {},
   "source": [
    "# Linters\n",
    "\n",
    "https://realpython.com/python-code-quality/#linters\n"
   ]
  },
  {
   "cell_type": "markdown",
   "metadata": {},
   "source": [
    "## Flake8\n",
    "\n",
    "- PyFlakes: https://github.com/PyCQA/pyflakes\n",
    "- pycodestyle (formerly pep8): https://github.com/PyCQA/pycodestyle\n",
    "- Mccabe (complexity): https://github.com/PyCQA/mccabe"
   ]
  },
  {
   "cell_type": "code",
   "execution_count": 5,
   "metadata": {},
   "outputs": [
    {
     "data": {
      "text/plain": [
       "4.5"
      ]
     },
     "execution_count": 5,
     "metadata": {},
     "output_type": "execute_result"
    }
   ],
   "source": [
    "a = (1 + 1 / 2) * 3\n"
   ]
  },
  {
   "cell_type": "markdown",
   "metadata": {},
   "source": [
    "spaces are the preferred indentation methodTabs should be usedsolely to remain consistent with code that is already indented with tabs.Python 3 disallow mixing the use of tabs and spaces for indentation ython 2 code indented with a mixture of tabs and spaces should be converted to using spces exclusively.\n",
    "\n",
    "\n",
    "Spaces are the preferred indentation method.\n",
    "\n",
    "Tabs should be used solely to remain consistent with code that is already indented with tabs.\n",
    "\n",
    "Python 3 disallows mixing the use of tabs and spaces for indentation.\n",
    "\n",
    "Python 2 code indented with a mixture of tabs and spaces should be converted to using spaces exclusively."
   ]
  },
  {
   "cell_type": "code",
   "execution_count": null,
   "metadata": {},
   "outputs": [],
   "source": [
    "def get_or_create_fichero():\n",
    "    cont_fichero = leerfichero()\n",
    "    if cont_fichero != \"\":\n",
    "        otro_fichero = cont_fichero.copy()\n",
    "        try:\n",
    "            guardar(otro_fichero)\n",
    "        except KeyError:\n",
    "            return None\n",
    "        return otro_fichero\n",
    "    else:\n",
    "        cont_fichero = crearfichero(cont_fichero)\n",
    "        return cont_fichero\n",
    "    return True"
   ]
  },
  {
   "cell_type": "code",
   "execution_count": 2,
   "metadata": {},
   "outputs": [
    {
     "name": "stdout",
     "output_type": "stream",
     "text": [
      "11\n",
      "excepción TypeError\n"
     ]
    }
   ],
   "source": [
    "i = 0 \n",
    "while 1:\n",
    "    i += 1\n",
    "    None\n",
    "    if i > 10:\n",
    "        break\n",
    "print(i)\n",
    "\n",
    "try:\n",
    "    diccionario = 1\n",
    "    print(diccionario[None])\n",
    "except TypeError:\n",
    "    print(\"excepción TypeError\")\n",
    "\n",
    "\n",
    "def get_or_create_fichero(parametro):\n",
    "    \"\"\"\n",
    "    parametro str: es el valor que viene de blablabla\n",
    "    \"\"\"\n",
    "    get_fichero()\n",
    "    if not fichero:\n",
    "        create_fichero()\n",
    "\n",
    "    cont_fichero = leerfichero()\n",
    "    result = None\n",
    "    \n",
    "    if cont_fichero != \"\":\n",
    "        fichero_leido = leerfichero()\n",
    "        otro_fichero = cont_fichero.copy()\n",
    "        \n",
    "        try:\n",
    "            guardar(otro_fichero)\n",
    "        except KeyError:\n",
    "            pass\n",
    "        else:\n",
    "            result = otro_fichero\n",
    "    else:\n",
    "        result = crearfichero(cont_fichero)\n",
    "\n",
    "        \n",
    "    for i in range(5):\n",
    "        bla\n",
    "        bla\n",
    "        bla\n",
    "        \n",
    "        \n",
    "    return result"
   ]
  },
  {
   "cell_type": "markdown",
   "metadata": {},
   "source": [
    "## Pylint\n",
    "\n",
    "https://www.pylint.org/"
   ]
  },
  {
   "cell_type": "markdown",
   "metadata": {},
   "source": [
    "## Mypy\n",
    "\n",
    "http://mypy-lang.org/\n"
   ]
  },
  {
   "cell_type": "markdown",
   "metadata": {},
   "source": [
    "# Convención de nombres:\n",
    "pepe va de marcha\n",
    "\n",
    "snake_case: pepe_va_de_marcha -> variables, funciones, métodos...\n",
    "\n",
    "CamelCase: PepeVaDeMarcha -> Clases\n",
    "\n",
    "lowerCamelCase: pepeVaDeMarcha -> ¡NO EN PYTHON!\n"
   ]
  },
  {
   "cell_type": "markdown",
   "metadata": {},
   "source": [
    "# Formatters"
   ]
  },
  {
   "cell_type": "markdown",
   "metadata": {},
   "source": [
    "## Black\n",
    "\n",
    "https://github.com/psf/black"
   ]
  },
  {
   "cell_type": "markdown",
   "metadata": {},
   "source": [
    "## Isort\n",
    "\n",
    "https://github.com/PyCQA/isort"
   ]
  },
  {
   "cell_type": "markdown",
   "metadata": {},
   "source": [
    "# Packages"
   ]
  },
  {
   "cell_type": "markdown",
   "metadata": {},
   "source": [
    "## Tox\n",
    "\n",
    "https://tox.readthedocs.io/en/latest/"
   ]
  },
  {
   "cell_type": "markdown",
   "metadata": {},
   "source": [
    "# Dependencies"
   ]
  },
  {
   "cell_type": "markdown",
   "metadata": {},
   "source": [
    "## Pipenv\n",
    "\n",
    "https://pipenv-es.readthedocs.io/es/latest/\n",
    "\n"
   ]
  },
  {
   "cell_type": "markdown",
   "metadata": {},
   "source": [
    "## Virtualenv\n",
    "virtualenv venv\n",
    "\n",
    "source venv/bin/activate\n",
    "\n",
    "pip install -r requirements.txt"
   ]
  },
  {
   "cell_type": "markdown",
   "metadata": {},
   "source": [
    "# Tests"
   ]
  },
  {
   "cell_type": "markdown",
   "metadata": {},
   "source": [
    "## Pytest\n",
    "\n",
    "https://docs.pytest.org/en/stable/"
   ]
  }
 ],
 "metadata": {
  "kernelspec": {
   "display_name": "Python 3",
   "language": "python",
   "name": "python3"
  },
  "language_info": {
   "codemirror_mode": {
    "name": "ipython",
    "version": 3
   },
   "file_extension": ".py",
   "mimetype": "text/x-python",
   "name": "python",
   "nbconvert_exporter": "python",
   "pygments_lexer": "ipython3",
   "version": "3.7.9"
  }
 },
 "nbformat": 4,
 "nbformat_minor": 4
}
